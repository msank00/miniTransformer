{
 "cells": [
  {
   "cell_type": "markdown",
   "id": "66286021-556e-44fe-b938-ebbd29788be5",
   "metadata": {},
   "source": [
    "# Data Iterator"
   ]
  },
  {
   "cell_type": "code",
   "execution_count": 24,
   "id": "dd24f559-1ad4-443e-8f69-72e35f509586",
   "metadata": {},
   "outputs": [],
   "source": [
    "import torch\n",
    "from torchtext.legacy import data\n",
    "import torchtext \n",
    "import numpy as np\n",
    "from torch.autograd import Variable"
   ]
  },
  {
   "cell_type": "code",
   "execution_count": 25,
   "id": "fda2d2c6-8858-48bd-9461-b9130ebd80bb",
   "metadata": {},
   "outputs": [],
   "source": [
    "import torch.nn as nn"
   ]
  },
  {
   "cell_type": "code",
   "execution_count": 26,
   "id": "edf08fff-804f-44b6-8675-45047c8d9ba6",
   "metadata": {},
   "outputs": [],
   "source": [
    "import pandas as pd"
   ]
  },
  {
   "cell_type": "code",
   "execution_count": 27,
   "id": "ea5a20e6-ff58-45a4-ae2d-40e04ea001c8",
   "metadata": {},
   "outputs": [
    {
     "data": {
      "text/plain": [
       "False"
      ]
     },
     "execution_count": 27,
     "metadata": {},
     "output_type": "execute_result"
    }
   ],
   "source": [
    "torch.cuda.is_available()"
   ]
  },
  {
   "cell_type": "code",
   "execution_count": 4,
   "id": "bda53c66-a46c-4507-b4a4-29032e07c611",
   "metadata": {},
   "outputs": [],
   "source": [
    "def nopeak_mask(size, opt):\n",
    "    np_mask = np.triu(np.ones((1, size, size)),\n",
    "    k=1).astype('uint8')\n",
    "    np_mask =  Variable(torch.from_numpy(np_mask) == 0)\n",
    "    if opt.device == 0:\n",
    "        np_mask = np_mask.cuda()\n",
    "    return np_mask\n",
    "\n",
    "def create_masks(src, trg, opt):\n",
    "    \n",
    "    src_mask = (src != opt.src_pad).unsqueeze(-2)\n",
    "\n",
    "    if trg is not None:\n",
    "        trg_mask = (trg != opt.trg_pad).unsqueeze(-2)\n",
    "        size = trg.size(1) # get seq_len for matrix\n",
    "        np_mask = nopeak_mask(size, opt)\n",
    "        if trg.is_cuda:\n",
    "            np_mask.cuda()\n",
    "        trg_mask = trg_mask & np_mask\n",
    "        \n",
    "    else:\n",
    "        trg_mask = None\n",
    "    return src_mask, trg_mask\n",
    "\n",
    "# patch on Torchtext's batching process that makes it more efficient\n",
    "# from http://nlp.seas.harvard.edu/2018/04/03/attention.html#position-wise-feed-forward-networks\n",
    "\n",
    "class MyIterator(data.Iterator):\n",
    "    def create_batches(self):\n",
    "        if self.train:\n",
    "            def pool(d, random_shuffler):\n",
    "                for p in data.batch(d, self.batch_size * 100):\n",
    "                    p_batch = data.batch(\n",
    "                        sorted(p, key=self.sort_key),\n",
    "                        self.batch_size, self.batch_size_fn)\n",
    "                    for b in random_shuffler(list(p_batch)):\n",
    "                        yield b\n",
    "            self.batches = pool(self.data(), self.random_shuffler)\n",
    "            \n",
    "        else:\n",
    "            self.batches = []\n",
    "            for b in data.batch(self.data(), self.batch_size,\n",
    "                                          self.batch_size_fn):\n",
    "                self.batches.append(sorted(b, key=self.sort_key))\n",
    "\n",
    "global max_src_in_batch, max_tgt_in_batch\n",
    "\n",
    "def batch_size_fn(new, count, sofar):\n",
    "    \"Keep augmenting batch and calculate total number of tokens + padding.\"\n",
    "    global max_src_in_batch, max_tgt_in_batch\n",
    "    if count == 1:\n",
    "        max_src_in_batch = 0\n",
    "        max_tgt_in_batch = 0\n",
    "    max_src_in_batch = max(max_src_in_batch,  len(new.src))\n",
    "    max_tgt_in_batch = max(max_tgt_in_batch,  len(new.trg) + 2)\n",
    "    src_elements = count * max_src_in_batch\n",
    "    tgt_elements = count * max_tgt_in_batch\n",
    "    return max(src_elements, tgt_elements)"
   ]
  },
  {
   "cell_type": "markdown",
   "id": "9277d968-60a8-408d-9cbe-4653bc8b2ecc",
   "metadata": {},
   "source": [
    "# Create Tokenizer"
   ]
  },
  {
   "cell_type": "code",
   "execution_count": 5,
   "id": "ce94aa3a-d15b-4dba-bdac-f87eaa2e769f",
   "metadata": {},
   "outputs": [],
   "source": [
    "import spacy\n",
    "import re"
   ]
  },
  {
   "cell_type": "code",
   "execution_count": 6,
   "id": "3b98a14a-589d-4ddf-b9de-bbd016acc19b",
   "metadata": {},
   "outputs": [],
   "source": [
    "class tokenize(object):\n",
    "    \n",
    "    def __init__(self, lang):\n",
    "        self.nlp = spacy.load(lang)\n",
    "            \n",
    "    def tokenizer(self, sentence):\n",
    "        sentence = re.sub(\n",
    "        r\"[\\*\\\"“”\\n\\\\…\\+\\-\\/\\=\\(\\)‘•:\\[\\]\\|’\\!;]\", \" \", str(sentence))\n",
    "        sentence = re.sub(r\"[ ]+\", \" \", sentence)\n",
    "        sentence = re.sub(r\"\\!+\", \"!\", sentence)\n",
    "        sentence = re.sub(r\"\\,+\", \",\", sentence)\n",
    "        sentence = re.sub(r\"\\?+\", \"?\", sentence)\n",
    "        sentence = sentence.lower()\n",
    "        return [tok.text for tok in self.nlp.tokenizer(sentence) if tok.text != \" \"]"
   ]
  },
  {
   "cell_type": "code",
   "execution_count": 7,
   "id": "55961831-f522-4b9a-8c1c-ac56cdfee0a9",
   "metadata": {},
   "outputs": [],
   "source": [
    "lang = \"en_core_web_sm\"\n",
    "tk = tokenize(lang)"
   ]
  },
  {
   "cell_type": "code",
   "execution_count": 8,
   "id": "fe34ddd4-5d72-45fb-8516-10b907781e8d",
   "metadata": {},
   "outputs": [],
   "source": [
    "sent = '\"Top-down economics never works,\" said Obama. \"The country does not succeed when just those at the very top are doing well. We succeed when the middle class gets bigger, when it feels greater security.\"'\n",
    "sent_tk = tk.tokenizer(sent)"
   ]
  },
  {
   "cell_type": "code",
   "execution_count": 9,
   "id": "94f87bf4-edcd-4a19-9289-d5f564b478c5",
   "metadata": {},
   "outputs": [
    {
     "name": "stdout",
     "output_type": "stream",
     "text": [
      "Requirement already satisfied: dill in /home/gpu/miniconda3/envs/srbert/lib/python3.8/site-packages (0.3.4)\n"
     ]
    }
   ],
   "source": [
    "!pip install dill"
   ]
  },
  {
   "cell_type": "code",
   "execution_count": 10,
   "id": "40bbd1da-c89f-4f8a-83f0-9d8a65f87a62",
   "metadata": {},
   "outputs": [],
   "source": [
    "import os\n",
    "import dill as pickle"
   ]
  },
  {
   "cell_type": "code",
   "execution_count": 11,
   "id": "d78dec5c-6120-4560-afe7-c3c1f08cc6c2",
   "metadata": {},
   "outputs": [],
   "source": [
    "def read_data(opt):\n",
    "    \n",
    "    if opt.src_data is not None:\n",
    "        try:\n",
    "            opt.src_data = open(opt.src_data).read().strip().split('\\n')\n",
    "        except:\n",
    "            print(\"error: '\" + opt.src_data + \"' file not found\")\n",
    "            quit()\n",
    "    \n",
    "    if opt.trg_data is not None:\n",
    "        try:\n",
    "            opt.trg_data = open(opt.trg_data).read().strip().split('\\n')\n",
    "        except:\n",
    "            print(\"error: '\" + opt.trg_data + \"' file not found\")\n",
    "            quit()"
   ]
  },
  {
   "cell_type": "code",
   "execution_count": 12,
   "id": "d7c4a2e1-af60-4c7e-9cc2-a278ed71c178",
   "metadata": {},
   "outputs": [],
   "source": [
    "def create_fields(opt):\n",
    "    \n",
    "    #     spacy_langs = ['en', 'fr', 'de', 'es', 'pt', 'it', 'nl']\n",
    "    #     if opt.src_lang not in spacy_langs:\n",
    "    #         print('invalid src language: ' + opt.src_lang + 'supported languages : ' + spacy_langs)  \n",
    "    #     if opt.trg_lang not in spacy_langs:\n",
    "    #         print('invalid trg language: ' + opt.trg_lang + 'supported languages : ' + spacy_langs)\n",
    "    \n",
    "    print(\"loading spacy tokenizers...\")\n",
    "    \n",
    "    t_src = tokenize(opt.src_lang)\n",
    "    t_trg = tokenize(opt.trg_lang)\n",
    "\n",
    "    TRG = data.Field(lower=True, tokenize=t_trg.tokenizer, init_token='<sos>', eos_token='<eos>')\n",
    "    SRC = data.Field(lower=True, tokenize=t_src.tokenizer)\n",
    "\n",
    "    if opt.load_weights is not None:\n",
    "        try:\n",
    "            print(\"loading presaved fields...\")\n",
    "            SRC = pickle.load(open(f'{opt.load_weights}/SRC.pkl', 'rb'))\n",
    "            TRG = pickle.load(open(f'{opt.load_weights}/TRG.pkl', 'rb'))\n",
    "        except:\n",
    "            print(\"error opening SRC.pkl and TXT.pkl field files, please ensure they are in \" + opt.load_weights + \"/\")\n",
    "            quit()\n",
    "        \n",
    "    return(SRC, TRG)"
   ]
  },
  {
   "cell_type": "code",
   "execution_count": 13,
   "id": "8656f15d-ff60-443b-81b6-58f3da474552",
   "metadata": {},
   "outputs": [],
   "source": [
    "def create_dataset(opt, SRC, TRG):\n",
    "\n",
    "    print(\"creating dataset and iterator... \")\n",
    "\n",
    "    raw_data = {'src' : [line for line in opt.src_data], 'trg': [line for line in opt.trg_data]}\n",
    "    df = pd.DataFrame(raw_data, columns=[\"src\", \"trg\"])\n",
    "    df.to_csv(\"temp.csv\", index=False)\n",
    "    \n",
    "    mask = (df['src'].str.count(' ') < opt.max_strlen) & (df['trg'].str.count(' ') < opt.max_strlen)\n",
    "    df = df.loc[mask]\n",
    "\n",
    "    df.to_csv(\"translate_transformer_temp.csv\", index=False)\n",
    "    \n",
    "    data_fields = [('src', SRC), ('trg', TRG)]\n",
    "    train = data.TabularDataset('./translate_transformer_temp.csv', format='csv', fields=data_fields)\n",
    "\n",
    "    train_iter = MyIterator(train, batch_size=opt.batchsize, device=opt.device,\n",
    "                        repeat=False, sort_key=lambda x: (len(x.src), len(x.trg)),\n",
    "                        batch_size_fn=batch_size_fn, train=True, shuffle=True)\n",
    "    \n",
    "    # os.remove('translate_transformer_temp.csv')\n",
    "\n",
    "    if opt.load_weights is None:\n",
    "        SRC.build_vocab(train)\n",
    "        TRG.build_vocab(train)\n",
    "        if opt.checkpoint > 0:\n",
    "            try:\n",
    "                os.mkdir(\"weights\")\n",
    "            except:\n",
    "                print(\"weights folder already exists, run program with -load_weights weights to load them\")\n",
    "                quit()\n",
    "            pickle.dump(SRC, open('weights/SRC.pkl', 'wb'))\n",
    "            pickle.dump(TRG, open('weights/TRG.pkl', 'wb'))\n",
    "\n",
    "    opt.src_pad = SRC.vocab.stoi['<pad>']\n",
    "    opt.trg_pad = TRG.vocab.stoi['<pad>']\n",
    "\n",
    "    opt.train_len = get_len(train_iter)\n",
    "\n",
    "    return train_iter\n",
    "\n",
    "def get_len(train):\n",
    "\n",
    "    for i, b in enumerate(train):\n",
    "        pass\n",
    "    \n",
    "    return i"
   ]
  },
  {
   "cell_type": "code",
   "execution_count": 48,
   "id": "7888e792-3eb7-410e-b328-16d4a95db456",
   "metadata": {},
   "outputs": [],
   "source": [
    "class Opt:\n",
    "    src_data = \"../data/english.txt\"\n",
    "    trg_data = \"../data/french.txt\"\n",
    "    src_lang = \"en_core_web_sm\"\n",
    "    trg_lang = \"fr_core_news_sm\"\n",
    "    no_cuda = True\n",
    "    load_weights = None\n",
    "    max_strlen = 80\n",
    "    batchsize = 32\n",
    "    checkpoint = 0\n",
    "    d_model = 512\n",
    "    n_layers = 6\n",
    "    heads = 8\n",
    "    dropout = 0.1\n",
    "    epochs = 1\n",
    "    printevery = 5\n",
    "    lr = 0.0001\n",
    "    \n",
    "    "
   ]
  },
  {
   "cell_type": "code",
   "execution_count": 49,
   "id": "9f15afcb-902f-48ce-bde2-6d3b73a5282f",
   "metadata": {},
   "outputs": [],
   "source": [
    "opt = Opt()"
   ]
  },
  {
   "cell_type": "code",
   "execution_count": 50,
   "id": "58da1690-de3b-4ed3-abda-3a8325427c13",
   "metadata": {},
   "outputs": [
    {
     "data": {
      "text/plain": [
       "False"
      ]
     },
     "execution_count": 50,
     "metadata": {},
     "output_type": "execute_result"
    }
   ],
   "source": [
    "torch.cuda.is_available()"
   ]
  },
  {
   "cell_type": "code",
   "execution_count": 51,
   "id": "cea30b90-65cf-471a-ae1c-2ed05b22b3d5",
   "metadata": {},
   "outputs": [],
   "source": [
    "opt.device = 0 if opt.no_cuda is False else -1\n",
    "if opt.device == 0:\n",
    "    assert torch.cuda.is_available()"
   ]
  },
  {
   "cell_type": "code",
   "execution_count": 52,
   "id": "8abc4729-09cd-4039-803d-17618ea729ac",
   "metadata": {},
   "outputs": [
    {
     "data": {
      "text/plain": [
       "-1"
      ]
     },
     "execution_count": 52,
     "metadata": {},
     "output_type": "execute_result"
    }
   ],
   "source": [
    "opt.device"
   ]
  },
  {
   "cell_type": "code",
   "execution_count": 53,
   "id": "1ef43570-77ec-41ba-a61e-b89f539d639e",
   "metadata": {},
   "outputs": [],
   "source": [
    "read_data(opt)"
   ]
  },
  {
   "cell_type": "code",
   "execution_count": 54,
   "id": "276ff0aa-dfcf-4abe-b7f7-7ad3a82f5f36",
   "metadata": {},
   "outputs": [
    {
     "data": {
      "text/plain": [
       "154883"
      ]
     },
     "execution_count": 54,
     "metadata": {},
     "output_type": "execute_result"
    }
   ],
   "source": [
    "len(opt.trg_data)"
   ]
  },
  {
   "cell_type": "code",
   "execution_count": 55,
   "id": "2b58e7f2-64cd-4e5a-a961-32eb924bccf5",
   "metadata": {},
   "outputs": [
    {
     "name": "stdout",
     "output_type": "stream",
     "text": [
      "loading spacy tokenizers...\n"
     ]
    }
   ],
   "source": [
    "SRC, TRG = create_fields(opt)"
   ]
  },
  {
   "cell_type": "code",
   "execution_count": 56,
   "id": "9b0762b4-8890-48c7-ae91-5e4a81fff83b",
   "metadata": {},
   "outputs": [
    {
     "name": "stdout",
     "output_type": "stream",
     "text": [
      "creating dataset and iterator... \n"
     ]
    },
    {
     "name": "stderr",
     "output_type": "stream",
     "text": [
      "The `device` argument should be set by using `torch.device` or passing a string as an argument. This behavior will be deprecated soon and currently defaults to cpu.\n"
     ]
    }
   ],
   "source": [
    "opt.train = create_dataset(opt, SRC, TRG)"
   ]
  },
  {
   "cell_type": "code",
   "execution_count": 57,
   "id": "212e6d8e-829f-43d8-904e-177b0a545d54",
   "metadata": {},
   "outputs": [],
   "source": [
    "from messy_transformer_correct import Transformer"
   ]
  },
  {
   "cell_type": "code",
   "execution_count": 58,
   "id": "7db72733-1edb-4c4e-bac2-b221ccccdf73",
   "metadata": {},
   "outputs": [],
   "source": [
    "def get_model(opt, src_vocab, trg_vocab):\n",
    "    \n",
    "    assert opt.d_model % opt.heads == 0\n",
    "    assert opt.dropout < 1\n",
    "\n",
    "    model = Transformer(src_vocab, trg_vocab, opt.d_model, opt.n_layers, opt.heads, opt.dropout)\n",
    "       \n",
    "    if opt.load_weights is not None:\n",
    "        print(\"loading pretrained weights...\")\n",
    "        model.load_state_dict(torch.load(f'{opt.load_weights}/model_weights'))\n",
    "    else:\n",
    "        for p in model.parameters():\n",
    "            if p.dim() > 1:\n",
    "                nn.init.xavier_uniform_(p) \n",
    "    \n",
    "    if opt.device == 0:\n",
    "        model = model.cuda()\n",
    "    \n",
    "    return model"
   ]
  },
  {
   "cell_type": "code",
   "execution_count": 59,
   "id": "e0b99c26-f6b1-4b61-a0ad-b796943c49fa",
   "metadata": {},
   "outputs": [],
   "source": [
    "model = get_model(opt, len(SRC.vocab), len(TRG.vocab))"
   ]
  },
  {
   "cell_type": "code",
   "execution_count": 60,
   "id": "fa00c62d-793d-42a5-94b3-235d6d0e7dc4",
   "metadata": {},
   "outputs": [],
   "source": [
    "opt.optimizer = torch.optim.Adam(model.parameters(), lr=opt.lr, betas=(0.9, 0.98), eps=1e-9)"
   ]
  },
  {
   "cell_type": "code",
   "execution_count": 61,
   "id": "6513da3b-7a44-4575-9569-b7c824560bf9",
   "metadata": {},
   "outputs": [],
   "source": [
    "from messy_scheduler import CosineWithRestarts"
   ]
  },
  {
   "cell_type": "code",
   "execution_count": 62,
   "id": "8b7da15c-eb6d-4ca4-9a6c-9ca3feb22493",
   "metadata": {},
   "outputs": [],
   "source": [
    "opt.SGDR = True"
   ]
  },
  {
   "cell_type": "code",
   "execution_count": 63,
   "id": "ff0946c6-6fd4-4a4e-8faf-adbb12953e81",
   "metadata": {},
   "outputs": [],
   "source": [
    "if opt.SGDR == True:\n",
    "    opt.sched = CosineWithRestarts(opt.optimizer, T_max=opt.train_len)"
   ]
  },
  {
   "cell_type": "code",
   "execution_count": 64,
   "id": "07d55299-45b4-45a4-81f5-d8b822755a0f",
   "metadata": {},
   "outputs": [],
   "source": [
    "opt.checkpoint = 0"
   ]
  },
  {
   "cell_type": "code",
   "execution_count": 65,
   "id": "ff28b6af-cbd8-47a9-8638-11b58f4175bf",
   "metadata": {},
   "outputs": [],
   "source": [
    "if opt.checkpoint > 0:\n",
    "    print(\"model weights will be saved every %d minutes and at end of epoch to directory weights/\"%(opt.checkpoint))"
   ]
  },
  {
   "cell_type": "code",
   "execution_count": 66,
   "id": "b50674b8-33c9-47b8-be5c-dc6b92b9ba27",
   "metadata": {},
   "outputs": [],
   "source": [
    "opt.floyd = False"
   ]
  },
  {
   "cell_type": "code",
   "execution_count": 67,
   "id": "d3770244-6e7b-4d24-b24c-ba419bb8b6b1",
   "metadata": {},
   "outputs": [],
   "source": [
    "import time"
   ]
  },
  {
   "cell_type": "code",
   "execution_count": 70,
   "id": "8237e5fb-636b-4f90-99f2-9239d055d0f3",
   "metadata": {},
   "outputs": [],
   "source": [
    "import torch.nn.functional as F"
   ]
  },
  {
   "cell_type": "code",
   "execution_count": 74,
   "id": "f4364eab-6921-4c15-8b76-62955ed1ec42",
   "metadata": {},
   "outputs": [],
   "source": [
    "def train_model(model, opt):\n",
    "    \n",
    "    print(\"training model...\")\n",
    "    model.train()\n",
    "    start = time.time()\n",
    "    if opt.checkpoint > 0:\n",
    "        cptime = time.time()\n",
    "                 \n",
    "    for epoch in range(opt.epochs):\n",
    "\n",
    "        total_loss = 0\n",
    "        if opt.floyd is False:\n",
    "            print(\"   %dm: epoch %d [%s]  %d%%  loss = %s\" %\\\n",
    "            ((time.time() - start)//60, epoch + 1, \"\".join(' '*20), 0, '...'), end='\\r')\n",
    "        \n",
    "        if opt.checkpoint > 0:\n",
    "            torch.save(model.state_dict(), 'weights/model_weights')\n",
    "                    \n",
    "        for i, batch in enumerate(opt.train): \n",
    "\n",
    "            src = batch.src.transpose(0,1)\n",
    "            trg = batch.trg.transpose(0,1)\n",
    "            trg_input = trg[:, :-1]\n",
    "            src_mask, trg_mask = create_masks(src, trg_input, opt)\n",
    "            preds = model(src, trg_input, src_mask, trg_mask)\n",
    "            ys = trg[:, 1:].contiguous().view(-1)\n",
    "            opt.optimizer.zero_grad()\n",
    "            loss = F.cross_entropy(preds.view(-1, preds.size(-1)), ys, ignore_index=opt.trg_pad)\n",
    "            loss.backward()\n",
    "            opt.optimizer.step()\n",
    "            if opt.SGDR == True: \n",
    "                opt.sched.step()\n",
    "            \n",
    "            total_loss += loss.item()\n",
    "            \n",
    "            p = int(100 * (i + 1) / opt.train_len)\n",
    "            avg_loss = total_loss/opt.printevery\n",
    "            if (i + 1) % opt.printevery == 0:\n",
    "                if opt.floyd is False:\n",
    "                    print(\"   %dm: epoch %d [%s%s]  %d%%  loss = %.3f\" %\\\n",
    "                    ((time.time() - start)//60, epoch + 1, \"\".join('#'*(p//5)), \"\".join(' '*(20-(p//5))), p, avg_loss), end='\\r')\n",
    "            else:\n",
    "                print(\"   %dm: epoch %d [%s%s]  %d%%  loss = %.3f\" %\\\n",
    "                ((time.time() - start)//60, epoch + 1, \"\".join('#'*(p//5)), \"\".join(' '*(20-(p//5))), p, avg_loss))\n",
    "                total_loss = 0\n",
    "            \n",
    "            if opt.checkpoint > 0 and ((time.time()-cptime)//60) // opt.checkpoint >= 1:\n",
    "                torch.save(model.state_dict(), 'weights/model_weights')\n",
    "                cptime = time.time()\n",
    "   \n",
    "   \n",
    "        print(\"%dm: epoch %d [%s%s]  %d%%  loss = %.3f\\nepoch %d complete, loss = %.03f\" %\\\n",
    "        ((time.time() - start)//60, epoch + 1, \"\".join('#'*(100//5)), \"\".join(' '*(20-(100//5))), 100, avg_loss, epoch + 1, avg_loss))\n",
    "\n"
   ]
  },
  {
   "cell_type": "code",
   "execution_count": 75,
   "id": "0d165dfc-e166-4ef5-b951-141be7d2b11c",
   "metadata": {},
   "outputs": [
    {
     "name": "stdout",
     "output_type": "stream",
     "text": [
      "training model...\n",
      "   0m: epoch 1 [                    ]  0%  loss = 1.954\n",
      "   0m: epoch 1 [                    ]  0%  loss = 1.930\n",
      "   0m: epoch 1 [                    ]  0%  loss = 1.920\n",
      "   0m: epoch 1 [                    ]  0%  loss = 1.934\n",
      "   0m: epoch 1 [                    ]  0%  loss = 3.802\n",
      "   0m: epoch 1 [                    ]  0%  loss = 1.904\n",
      "   0m: epoch 1 [                    ]  0%  loss = 1.885\n",
      "   0m: epoch 1 [                    ]  0%  loss = 1.845\n",
      "   0m: epoch 1 [                    ]  0%  loss = 3.723\n",
      "   0m: epoch 1 [                    ]  0%  loss = 1.830\n",
      "   0m: epoch 1 [                    ]  0%  loss = 1.889\n",
      "   0m: epoch 1 [                    ]  0%  loss = 1.791\n",
      "   0m: epoch 1 [                    ]  0%  loss = 3.684\n",
      "   0m: epoch 1 [                    ]  0%  loss = 1.821\n",
      "   0m: epoch 1 [                    ]  0%  loss = 1.810\n",
      "   0m: epoch 1 [                    ]  0%  loss = 1.812\n",
      "   0m: epoch 1 [                    ]  0%  loss = 3.489\n",
      "   0m: epoch 1 [                    ]  0%  loss = 1.740\n",
      "   0m: epoch 1 [                    ]  0%  loss = 1.803\n",
      "   0m: epoch 1 [                    ]  0%  loss = 1.691\n",
      "   0m: epoch 1 [                    ]  0%  loss = 3.494\n",
      "   0m: epoch 1 [                    ]  0%  loss = 1.710\n",
      "   0m: epoch 1 [                    ]  0%  loss = 1.699\n",
      "   0m: epoch 1 [                    ]  0%  loss = 1.767\n",
      "   0m: epoch 1 [                    ]  0%  loss = 3.516\n",
      "   0m: epoch 1 [                    ]  0%  loss = 1.617\n",
      "   0m: epoch 1 [                    ]  0%  loss = 1.689\n",
      "   0m: epoch 1 [                    ]  0%  loss = 1.611\n",
      "   0m: epoch 1 [                    ]  0%  loss = 3.310\n",
      "   0m: epoch 1 [                    ]  0%  loss = 1.616\n",
      "   0m: epoch 1 [                    ]  0%  loss = 1.616\n",
      "   0m: epoch 1 [                    ]  0%  loss = 1.604\n",
      "   0m: epoch 1 [                    ]  0%  loss = 3.310\n",
      "   0m: epoch 1 [                    ]  0%  loss = 1.639\n",
      "   0m: epoch 1 [                    ]  0%  loss = 1.652\n",
      "   0m: epoch 1 [                    ]  0%  loss = 1.606\n",
      "   0m: epoch 1 [                    ]  0%  loss = 3.105\n",
      "   0m: epoch 1 [                    ]  0%  loss = 1.555\n",
      "   0m: epoch 1 [                    ]  0%  loss = 1.584\n",
      "   0m: epoch 1 [                    ]  0%  loss = 1.536\n",
      "   0m: epoch 1 [                    ]  0%  loss = 3.125\n",
      "   0m: epoch 1 [                    ]  0%  loss = 1.476\n",
      "   0m: epoch 1 [                    ]  0%  loss = 1.554\n",
      "   0m: epoch 1 [                    ]  0%  loss = 1.466\n",
      "   0m: epoch 1 [                    ]  0%  loss = 2.844\n",
      "   0m: epoch 1 [                    ]  0%  loss = 1.459\n",
      "   0m: epoch 1 [                    ]  0%  loss = 1.622\n",
      "   0m: epoch 1 [                    ]  0%  loss = 1.622\n",
      "   0m: epoch 1 [                    ]  0%  loss = 2.806\n",
      "   0m: epoch 1 [                    ]  0%  loss = 1.375\n",
      "   0m: epoch 1 [                    ]  0%  loss = 1.390\n",
      "   0m: epoch 1 [                    ]  0%  loss = 1.299\n",
      "   0m: epoch 1 [                    ]  0%  loss = 2.811\n",
      "   0m: epoch 1 [                    ]  0%  loss = 1.393\n",
      "   0m: epoch 1 [                    ]  0%  loss = 1.413\n",
      "   0m: epoch 1 [                    ]  0%  loss = 1.376\n",
      "   0m: epoch 1 [                    ]  0%  loss = 2.618\n",
      "   0m: epoch 1 [                    ]  0%  loss = 1.461\n",
      "   0m: epoch 1 [                    ]  0%  loss = 1.368\n",
      "   0m: epoch 1 [                    ]  0%  loss = 1.329\n",
      "   0m: epoch 1 [                    ]  0%  loss = 2.715\n",
      "   0m: epoch 1 [                    ]  0%  loss = 1.300\n",
      "   0m: epoch 1 [                    ]  0%  loss = 1.124\n",
      "   0m: epoch 1 [                    ]  0%  loss = 1.400\n",
      "   0m: epoch 1 [                    ]  0%  loss = 2.774\n",
      "   0m: epoch 1 [                    ]  0%  loss = 1.491\n",
      "   0m: epoch 1 [                    ]  0%  loss = 1.173\n",
      "   0m: epoch 1 [                    ]  0%  loss = 1.367\n",
      "   0m: epoch 1 [                    ]  0%  loss = 2.724\n",
      "   0m: epoch 1 [                    ]  0%  loss = 1.262\n",
      "   0m: epoch 1 [                    ]  0%  loss = 1.364\n",
      "   0m: epoch 1 [                    ]  0%  loss = 1.447\n",
      "   0m: epoch 1 [                    ]  0%  loss = 2.561\n",
      "   0m: epoch 1 [                    ]  0%  loss = 1.449\n",
      "   0m: epoch 1 [                    ]  0%  loss = 1.284\n",
      "   0m: epoch 1 [                    ]  0%  loss = 1.238\n",
      "   0m: epoch 1 [                    ]  0%  loss = 2.511\n",
      "   0m: epoch 1 [                    ]  0%  loss = 1.076\n",
      "   0m: epoch 1 [                    ]  0%  loss = 1.155\n",
      "   0m: epoch 1 [                    ]  0%  loss = 1.245\n",
      "   0m: epoch 1 [                    ]  0%  loss = 2.546\n",
      "   0m: epoch 1 [                    ]  0%  loss = 1.128\n",
      "   0m: epoch 1 [                    ]  0%  loss = 1.195\n",
      "   0m: epoch 1 [                    ]  0%  loss = 1.340\n",
      "   0m: epoch 1 [                    ]  0%  loss = 2.513\n",
      "   0m: epoch 1 [                    ]  0%  loss = 1.105\n",
      "   0m: epoch 1 [                    ]  0%  loss = 1.405\n",
      "   0m: epoch 1 [                    ]  0%  loss = 1.188\n",
      "   0m: epoch 1 [                    ]  0%  loss = 2.444\n",
      "   0m: epoch 1 [                    ]  0%  loss = 1.160\n",
      "   0m: epoch 1 [                    ]  0%  loss = 1.219\n",
      "   0m: epoch 1 [                    ]  0%  loss = 1.281\n",
      "   0m: epoch 1 [                    ]  0%  loss = 2.776\n",
      "   0m: epoch 1 [                    ]  0%  loss = 1.366\n",
      "   0m: epoch 1 [                    ]  0%  loss = 1.438\n",
      "   0m: epoch 1 [                    ]  0%  loss = 1.291\n",
      "   0m: epoch 1 [                    ]  0%  loss = 2.408\n",
      "   0m: epoch 1 [                    ]  0%  loss = 1.430\n",
      "   0m: epoch 1 [                    ]  0%  loss = 1.314\n",
      "   0m: epoch 1 [                    ]  0%  loss = 1.211\n",
      "   0m: epoch 1 [                    ]  0%  loss = 2.470\n"
     ]
    },
    {
     "ename": "KeyboardInterrupt",
     "evalue": "",
     "output_type": "error",
     "traceback": [
      "\u001b[0;31m---------------------------------------------------------------------------\u001b[0m",
      "\u001b[0;31mKeyboardInterrupt\u001b[0m                         Traceback (most recent call last)",
      "\u001b[0;32m<ipython-input-75-4d8a224d6856>\u001b[0m in \u001b[0;36m<module>\u001b[0;34m\u001b[0m\n\u001b[0;32m----> 1\u001b[0;31m \u001b[0mtrain_model\u001b[0m\u001b[0;34m(\u001b[0m\u001b[0mmodel\u001b[0m\u001b[0;34m,\u001b[0m \u001b[0mopt\u001b[0m\u001b[0;34m)\u001b[0m\u001b[0;34m\u001b[0m\u001b[0;34m\u001b[0m\u001b[0m\n\u001b[0m",
      "\u001b[0;32m<ipython-input-74-620cba468c0d>\u001b[0m in \u001b[0;36mtrain_model\u001b[0;34m(model, opt)\u001b[0m\n\u001b[1;32m     27\u001b[0m             \u001b[0mopt\u001b[0m\u001b[0;34m.\u001b[0m\u001b[0moptimizer\u001b[0m\u001b[0;34m.\u001b[0m\u001b[0mzero_grad\u001b[0m\u001b[0;34m(\u001b[0m\u001b[0;34m)\u001b[0m\u001b[0;34m\u001b[0m\u001b[0;34m\u001b[0m\u001b[0m\n\u001b[1;32m     28\u001b[0m             \u001b[0mloss\u001b[0m \u001b[0;34m=\u001b[0m \u001b[0mF\u001b[0m\u001b[0;34m.\u001b[0m\u001b[0mcross_entropy\u001b[0m\u001b[0;34m(\u001b[0m\u001b[0mpreds\u001b[0m\u001b[0;34m.\u001b[0m\u001b[0mview\u001b[0m\u001b[0;34m(\u001b[0m\u001b[0;34m-\u001b[0m\u001b[0;36m1\u001b[0m\u001b[0;34m,\u001b[0m \u001b[0mpreds\u001b[0m\u001b[0;34m.\u001b[0m\u001b[0msize\u001b[0m\u001b[0;34m(\u001b[0m\u001b[0;34m-\u001b[0m\u001b[0;36m1\u001b[0m\u001b[0;34m)\u001b[0m\u001b[0;34m)\u001b[0m\u001b[0;34m,\u001b[0m \u001b[0mys\u001b[0m\u001b[0;34m,\u001b[0m \u001b[0mignore_index\u001b[0m\u001b[0;34m=\u001b[0m\u001b[0mopt\u001b[0m\u001b[0;34m.\u001b[0m\u001b[0mtrg_pad\u001b[0m\u001b[0;34m)\u001b[0m\u001b[0;34m\u001b[0m\u001b[0;34m\u001b[0m\u001b[0m\n\u001b[0;32m---> 29\u001b[0;31m             \u001b[0mloss\u001b[0m\u001b[0;34m.\u001b[0m\u001b[0mbackward\u001b[0m\u001b[0;34m(\u001b[0m\u001b[0;34m)\u001b[0m\u001b[0;34m\u001b[0m\u001b[0;34m\u001b[0m\u001b[0m\n\u001b[0m\u001b[1;32m     30\u001b[0m             \u001b[0mopt\u001b[0m\u001b[0;34m.\u001b[0m\u001b[0moptimizer\u001b[0m\u001b[0;34m.\u001b[0m\u001b[0mstep\u001b[0m\u001b[0;34m(\u001b[0m\u001b[0;34m)\u001b[0m\u001b[0;34m\u001b[0m\u001b[0;34m\u001b[0m\u001b[0m\n\u001b[1;32m     31\u001b[0m             \u001b[0;32mif\u001b[0m \u001b[0mopt\u001b[0m\u001b[0;34m.\u001b[0m\u001b[0mSGDR\u001b[0m \u001b[0;34m==\u001b[0m \u001b[0;32mTrue\u001b[0m\u001b[0;34m:\u001b[0m\u001b[0;34m\u001b[0m\u001b[0;34m\u001b[0m\u001b[0m\n",
      "\u001b[0;32m~/miniconda3/envs/srbert/lib/python3.8/site-packages/torch/tensor.py\u001b[0m in \u001b[0;36mbackward\u001b[0;34m(self, gradient, retain_graph, create_graph, inputs)\u001b[0m\n\u001b[1;32m    243\u001b[0m                 \u001b[0mcreate_graph\u001b[0m\u001b[0;34m=\u001b[0m\u001b[0mcreate_graph\u001b[0m\u001b[0;34m,\u001b[0m\u001b[0;34m\u001b[0m\u001b[0;34m\u001b[0m\u001b[0m\n\u001b[1;32m    244\u001b[0m                 inputs=inputs)\n\u001b[0;32m--> 245\u001b[0;31m         \u001b[0mtorch\u001b[0m\u001b[0;34m.\u001b[0m\u001b[0mautograd\u001b[0m\u001b[0;34m.\u001b[0m\u001b[0mbackward\u001b[0m\u001b[0;34m(\u001b[0m\u001b[0mself\u001b[0m\u001b[0;34m,\u001b[0m \u001b[0mgradient\u001b[0m\u001b[0;34m,\u001b[0m \u001b[0mretain_graph\u001b[0m\u001b[0;34m,\u001b[0m \u001b[0mcreate_graph\u001b[0m\u001b[0;34m,\u001b[0m \u001b[0minputs\u001b[0m\u001b[0;34m=\u001b[0m\u001b[0minputs\u001b[0m\u001b[0;34m)\u001b[0m\u001b[0;34m\u001b[0m\u001b[0;34m\u001b[0m\u001b[0m\n\u001b[0m\u001b[1;32m    246\u001b[0m \u001b[0;34m\u001b[0m\u001b[0m\n\u001b[1;32m    247\u001b[0m     \u001b[0;32mdef\u001b[0m \u001b[0mregister_hook\u001b[0m\u001b[0;34m(\u001b[0m\u001b[0mself\u001b[0m\u001b[0;34m,\u001b[0m \u001b[0mhook\u001b[0m\u001b[0;34m)\u001b[0m\u001b[0;34m:\u001b[0m\u001b[0;34m\u001b[0m\u001b[0;34m\u001b[0m\u001b[0m\n",
      "\u001b[0;32m~/miniconda3/envs/srbert/lib/python3.8/site-packages/torch/autograd/__init__.py\u001b[0m in \u001b[0;36mbackward\u001b[0;34m(tensors, grad_tensors, retain_graph, create_graph, grad_variables, inputs)\u001b[0m\n\u001b[1;32m    143\u001b[0m         \u001b[0mretain_graph\u001b[0m \u001b[0;34m=\u001b[0m \u001b[0mcreate_graph\u001b[0m\u001b[0;34m\u001b[0m\u001b[0;34m\u001b[0m\u001b[0m\n\u001b[1;32m    144\u001b[0m \u001b[0;34m\u001b[0m\u001b[0m\n\u001b[0;32m--> 145\u001b[0;31m     Variable._execution_engine.run_backward(\n\u001b[0m\u001b[1;32m    146\u001b[0m         \u001b[0mtensors\u001b[0m\u001b[0;34m,\u001b[0m \u001b[0mgrad_tensors_\u001b[0m\u001b[0;34m,\u001b[0m \u001b[0mretain_graph\u001b[0m\u001b[0;34m,\u001b[0m \u001b[0mcreate_graph\u001b[0m\u001b[0;34m,\u001b[0m \u001b[0minputs\u001b[0m\u001b[0;34m,\u001b[0m\u001b[0;34m\u001b[0m\u001b[0;34m\u001b[0m\u001b[0m\n\u001b[1;32m    147\u001b[0m         allow_unreachable=True, accumulate_grad=True)  # allow_unreachable flag\n",
      "\u001b[0;31mKeyboardInterrupt\u001b[0m: "
     ]
    }
   ],
   "source": [
    "train_model(model, opt)"
   ]
  },
  {
   "cell_type": "code",
   "execution_count": null,
   "id": "806d119a-f565-4766-a077-69359684db2b",
   "metadata": {},
   "outputs": [],
   "source": []
  }
 ],
 "metadata": {
  "kernelspec": {
   "display_name": "Python 3",
   "language": "python",
   "name": "python3"
  },
  "language_info": {
   "codemirror_mode": {
    "name": "ipython",
    "version": 3
   },
   "file_extension": ".py",
   "mimetype": "text/x-python",
   "name": "python",
   "nbconvert_exporter": "python",
   "pygments_lexer": "ipython3",
   "version": "3.8.8"
  }
 },
 "nbformat": 4,
 "nbformat_minor": 5
}
