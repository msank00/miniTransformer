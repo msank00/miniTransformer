{
 "cells": [
  {
   "cell_type": "code",
   "execution_count": 68,
   "id": "00b7cff9-42fb-4003-9d65-8768574107a8",
   "metadata": {},
   "outputs": [],
   "source": [
    "import numpy as np\n",
    "\n",
    "import torch\n",
    "import torch.nn as nn\n",
    "import math\n",
    "from torch.autograd import Variable\n",
    "\n",
    "import torch.nn.functional as F"
   ]
  },
  {
   "cell_type": "markdown",
   "id": "064361cf-bfba-43bf-a8bb-3eaff80c015e",
   "metadata": {},
   "source": [
    "# Embedding "
   ]
  },
  {
   "cell_type": "code",
   "execution_count": 4,
   "id": "ece1155a-7757-4dbb-821c-f84501a19bc3",
   "metadata": {},
   "outputs": [],
   "source": [
    "class Embedder(nn.Module):\n",
    "    def __init__(self, vocab_size:int, emb_dim:int):\n",
    "        super().__init__()\n",
    "        self.emb_dim = emb_dim \n",
    "        self.embed = nn.Embedding(vocab_size, emb_dim)\n",
    "\n",
    "    def forward(self, x: torch.tensor):\n",
    "        return self.embed(x)"
   ]
  },
  {
   "cell_type": "markdown",
   "id": "ed1f847a-d0c4-4944-8898-9ea00c9fe419",
   "metadata": {},
   "source": [
    "# Why use `register_buffer`\n",
    "\n",
    "- Ans [link](https://discuss.pytorch.org/t/what-is-the-difference-between-register-buffer-and-register-parameter-of-nn-module/32723/11)\n",
    "\n",
    "An example where I find this distinction difficult is in \n",
    "the context of fixed positional encodings in the Transformer \n",
    "model. Typically I see implementations where the fixed positional \n",
    "encodings are registered as buffers but I’d consider these tensors \n",
    "as non-learnable parameters (that should show up in the list of \n",
    "model parameters), especially when comparing between methods \n",
    "that don’t rely on such injection of fixed tensors.\n",
    "\n",
    "So in general:\n",
    "- buffers = `fixed tensors / non-learnable parameters / stuff that does not require gradient`\n",
    "- parameters = `learnable parameters, requires gradient`\n",
    "\n",
    "![image](https://discuss.pytorch.org/user_avatar/discuss.pytorch.org/ptrblck/90/1823_2.png)\n",
    "Piotr Bialecki\n",
    "\n",
    "If you have parameters in your model, which should be saved and restored in the state_dict, but not trained by the optimizer, you should register them as buffers. Buffers won’t be returned in model.parameters(), so that the optimizer won’t have a change to update them.\n",
    "\n",
    "Both approaches work the same regarding training etc.\n",
    "There are some differences in the function calls however. Using register_parameter you have to pass the name as a string, which can make the creation of a range of parameters convenient. Besides that I think it’s just coding style which one you prefer.\n",
    "\n",
    "If your `self.some_params` are `nn.Parameter` objects, then you don’t have to worry about this. If they’re tensors, then they won’t be in the `state_dict` (unless registered as buffer).\n",
    "\n",
    "> simple `torch.tensor` will not be available under `state_dict`\n",
    "\n",
    "one reason to register the tensor as a buffer is to be able to serialize the model and restore all internal states.\n",
    "Another one is that all buffers and parameters will be pushed to the device, if called on the parent model:\n",
    "\n",
    "```python\n",
    "class MyModel(nn.Module):\n",
    "    def __init__(self):\n",
    "        super(MyModel, self).__init__()\n",
    "        self.my_tensor = torch.randn(1)\n",
    "        self.register_buffer('my_buffer', torch.randn(1))\n",
    "        self.my_param = nn.Parameter(torch.randn(1))\n",
    "        \n",
    "    def forward(self, x):\n",
    "            return x\n",
    "\n",
    "model = MyModel()\n",
    "print(model.my_tensor)\n",
    "> tensor([0.9329])\n",
    "print(model.state_dict())\n",
    "> OrderedDict([('my_param', tensor([-0.2471])), ('my_buffer', tensor([1.2112]))])\n",
    "\n",
    "model.cuda()\n",
    "print(model.my_tensor)\n",
    "> tensor([0.9329])\n",
    "print(model.state_dict())\n",
    "> OrderedDict([('my_param', tensor([-0.2471], device='cuda:0')), ('my_buffer', tensor([1.2112], device='cuda:0'))])\n",
    "```\n",
    "\n",
    "As you can see, model.my_tensor is still on the CPU, where is was created, while all parameters and buffers were pushed to the GPU after calling `model.cuda()`."
   ]
  },
  {
   "cell_type": "markdown",
   "id": "200974c3-2498-4e28-aa17-29a3d6826397",
   "metadata": {},
   "source": [
    "<center>\n",
    "    <img src=\"https://miro.medium.com/max/566/1*B-VR6R5vJl3Y7jbMNf5Fpw.png\" width=\"400\">\n",
    "</center>\n",
    "\n",
    "# Make embedding relatively larger by scaling the values. WHY?\n",
    "\n",
    "The reason we increase the embedding values before \n",
    "addition is to make the positional encoding relatively \n",
    "smaller. This means the original meaning in the embedding \n",
    "vector won’t be lost when we add them together\n",
    "\n",
    "```python\n",
    "x = x*math.sqrt(self.emb_dim)\n",
    "```"
   ]
  },
  {
   "cell_type": "code",
   "execution_count": 5,
   "id": "31365422-2cda-43d6-947f-8554939ccad7",
   "metadata": {},
   "outputs": [],
   "source": [
    "class PositionalEmbedding(nn.Module):\n",
    "    def __init__(self, emb_dim:int, max_seq_len:int = 200, dropout_pct:float = 0.1):\n",
    "        super().__init__()\n",
    "\n",
    "        self.emb_dim = emb_dim\n",
    "        self.dropout = nn.Dropout(dropout_pct)\n",
    "\n",
    "        # create constant 'pe' matrix with values dependent on \n",
    "        # word position 'pos' and embedding position 'i'\n",
    "        pe = torch.zeros(max_seq_len, emb_dim)\n",
    "\n",
    "        for pos in range(max_seq_len):\n",
    "            for i in range(0, emb_dim, 2):\n",
    "                pe[pos,i] = math.sin(pos/(1000**((2*i)/emb_dim)))\n",
    "                pe[pos,i+1] = math.sin(pos/(1000**((2*(i+1))/emb_dim)))\n",
    "\n",
    "        # print(pe.size())\n",
    "        # pe = pe.unsqueeze(0)\n",
    "        # print(pe.size())\n",
    "\n",
    "        self.register_buffer('pe', pe)\n",
    "\n",
    "\n",
    "    def forward(self, x):\n",
    "        \n",
    "        # scale values\n",
    "        x = x*math.sqrt(self.emb_dim)  \n",
    "\n",
    "        seq_len = x.size(0)\n",
    "        \n",
    "        # add constant positional embedding to the word embedding\n",
    "        pe = Variable(self.pe[:seq_len,:], requires_grad=False)\n",
    "        \n",
    "        if x.is_cuda:\n",
    "            pe.cuda()\n",
    "        \n",
    "        x = x + pe\n",
    "        return self.dropout(x)"
   ]
  },
  {
   "cell_type": "markdown",
   "id": "379c04b9-bcdf-4eb2-8b0a-b89bc83332d7",
   "metadata": {},
   "source": [
    "## Test module"
   ]
  },
  {
   "cell_type": "code",
   "execution_count": 6,
   "id": "fbab3d5a-002d-4347-b45c-081a2358b93d",
   "metadata": {},
   "outputs": [],
   "source": [
    "VOCAB_SIZE = 20000\n",
    "EMB_DIM = 512"
   ]
  },
  {
   "cell_type": "code",
   "execution_count": 7,
   "id": "498d138b-f422-4578-8fa3-4fa02e3034e5",
   "metadata": {},
   "outputs": [],
   "source": [
    "e = Embedder(VOCAB_SIZE, EMB_DIM)"
   ]
  },
  {
   "cell_type": "code",
   "execution_count": 8,
   "id": "767a1dea-4fce-4307-a93b-c0e016b78a78",
   "metadata": {},
   "outputs": [],
   "source": [
    "idx = torch.tensor([1,2,3,4,5]) # torch.randint(3, 5, (3,))"
   ]
  },
  {
   "cell_type": "code",
   "execution_count": 9,
   "id": "b73df2a1-9e51-41e7-92e4-a25a78974a3a",
   "metadata": {},
   "outputs": [
    {
     "data": {
      "text/plain": [
       "tensor([1, 2, 3, 4, 5])"
      ]
     },
     "execution_count": 9,
     "metadata": {},
     "output_type": "execute_result"
    }
   ],
   "source": [
    "idx"
   ]
  },
  {
   "cell_type": "code",
   "execution_count": 10,
   "id": "f09c443d-29ce-40ab-a2e4-f6243cb3ead9",
   "metadata": {},
   "outputs": [],
   "source": [
    "emb = e(idx)"
   ]
  },
  {
   "cell_type": "code",
   "execution_count": 11,
   "id": "dd525d96-7abf-48ba-abf1-6b03929a027a",
   "metadata": {},
   "outputs": [
    {
     "data": {
      "text/plain": [
       "torch.Size([5, 512])"
      ]
     },
     "execution_count": 11,
     "metadata": {},
     "output_type": "execute_result"
    }
   ],
   "source": [
    "emb.size()"
   ]
  },
  {
   "cell_type": "code",
   "execution_count": 12,
   "id": "adbe5873-f596-47e2-9a6e-ff9e50f8420b",
   "metadata": {},
   "outputs": [],
   "source": [
    "p = PositionalEmbedding(emb_dim=EMB_DIM)"
   ]
  },
  {
   "cell_type": "code",
   "execution_count": 13,
   "id": "3a1e93fd-04ac-451c-9964-4e58b6491e03",
   "metadata": {},
   "outputs": [
    {
     "data": {
      "text/plain": [
       "torch.Size([200, 512])"
      ]
     },
     "execution_count": 13,
     "metadata": {},
     "output_type": "execute_result"
    }
   ],
   "source": [
    "p.pe.size()"
   ]
  },
  {
   "cell_type": "code",
   "execution_count": 14,
   "id": "c62a48cb-004a-4e5e-ac9b-b82a5718752f",
   "metadata": {},
   "outputs": [
    {
     "data": {
      "text/plain": [
       "torch.Size([200, 512])"
      ]
     },
     "execution_count": 14,
     "metadata": {},
     "output_type": "execute_result"
    }
   ],
   "source": [
    "p.pe.squeeze().size()"
   ]
  },
  {
   "cell_type": "code",
   "execution_count": 15,
   "id": "ca3827bb-906c-471e-8c8d-c01992587f13",
   "metadata": {},
   "outputs": [],
   "source": [
    "p_emb = p(emb)"
   ]
  },
  {
   "cell_type": "code",
   "execution_count": 16,
   "id": "3b14d4fc-dea2-43b8-a957-d6989c999e10",
   "metadata": {},
   "outputs": [
    {
     "data": {
      "text/plain": [
       "torch.Size([5, 512])"
      ]
     },
     "execution_count": 16,
     "metadata": {},
     "output_type": "execute_result"
    }
   ],
   "source": [
    "p_emb.size()"
   ]
  },
  {
   "cell_type": "markdown",
   "id": "f42cacf2-5830-42ff-9f92-3ba0e3c3d383",
   "metadata": {},
   "source": [
    "# Batch Normalization\n",
    "\n",
    "Normalisation is highly important in deep neural networks. It prevents the range of values in the layers changing too much, meaning the model trains faster and has better ability to generalise.\n",
    "\n",
    "<center>\n",
    "    <img src=\"https://miro.medium.com/max/511/1*4w3sQ14caDRkrQsAeK5Flw.png\" width=\"400\">\n",
    "</center>\n",
    "\n",
    "We will be normalising our results between each layer in the encoder/decoder, so before building our model let’s define that function:\n",
    "\n",
    "- [blog](https://kharshit.github.io/blog/2018/12/28/why-batch-normalization)\n",
    "\n",
    "<center>\n",
    "    <img src=\"https://kharshit.github.io/img/batch_normalization.png\" width=\"400\">\n",
    "</center>"
   ]
  },
  {
   "cell_type": "code",
   "execution_count": 17,
   "id": "62b42188-7c89-4370-a146-019e8646eaa1",
   "metadata": {},
   "outputs": [],
   "source": [
    "class Norm(nn.Module):\n",
    "    def __init__(self, d_model, eps = 1e-6):\n",
    "        super().__init__()\n",
    "    \n",
    "        self.size = d_model\n",
    "        \n",
    "        # create two learnable parameters to calibrate normalisation\n",
    "        self.alpha = nn.Parameter(torch.ones(self.size))\n",
    "        self.bias = nn.Parameter(torch.zeros(self.size))\n",
    "        \n",
    "        self.eps = eps\n",
    "    \n",
    "    def forward(self, x):\n",
    "        \n",
    "        x_mean = x.mean(dim=-1, keepdim=True)\n",
    "        x_variance = x.std(dim=-1, keepdim=True) \n",
    "        \n",
    "        normalized_x = (x - x_mean) / (x_variance + self.eps)\n",
    "        \n",
    "        # scale and shift\n",
    "        y = self.alpha * normalized_x + self.bias\n",
    "        return y"
   ]
  },
  {
   "cell_type": "markdown",
   "id": "4e5f9182-0a0b-4b08-bef2-912ef6a41975",
   "metadata": {},
   "source": [
    "## Test module"
   ]
  },
  {
   "cell_type": "code",
   "execution_count": 18,
   "id": "393b7769-337a-420b-b788-49633a359d3c",
   "metadata": {},
   "outputs": [
    {
     "data": {
      "text/plain": [
       "tensor([[[0.6363, 0.5445, 0.6989, 0.4074, 0.0814],\n",
       "         [0.6082, 0.3547, 0.7768, 0.5294, 0.9029],\n",
       "         [0.3892, 0.9773, 0.9562, 0.1726, 0.6007],\n",
       "         [0.9893, 0.3110, 0.1156, 0.2097, 0.9918],\n",
       "         [0.9585, 0.7403, 0.9822, 0.5368, 0.3279],\n",
       "         [0.4424, 0.1928, 0.7280, 0.2249, 0.1376],\n",
       "         [0.6337, 0.0055, 0.5238, 0.3916, 0.5012],\n",
       "         [0.1869, 0.9895, 0.0978, 0.9564, 0.7314],\n",
       "         [0.8758, 0.8246, 0.6007, 0.6468, 0.4780],\n",
       "         [0.3215, 0.4924, 0.4935, 0.7759, 0.9351]],\n",
       "\n",
       "        [[0.5387, 0.9676, 0.6728, 0.6470, 0.8957],\n",
       "         [0.1556, 0.2367, 0.1289, 0.5558, 0.7752],\n",
       "         [0.5543, 0.8119, 0.8772, 0.3989, 0.0174],\n",
       "         [0.9507, 0.5390, 0.2457, 0.9276, 0.0952],\n",
       "         [0.6572, 0.8437, 0.6032, 0.6676, 0.0543],\n",
       "         [0.4768, 0.3701, 0.4984, 0.6768, 0.5310],\n",
       "         [0.4532, 0.9479, 0.3555, 0.5171, 0.4026],\n",
       "         [0.4441, 0.6080, 0.3906, 0.7144, 0.7349],\n",
       "         [0.6162, 0.3254, 0.9442, 0.6880, 0.9053],\n",
       "         [0.1672, 0.3001, 0.4879, 0.2384, 0.0433]]])"
      ]
     },
     "execution_count": 18,
     "metadata": {},
     "output_type": "execute_result"
    }
   ],
   "source": [
    "d_model = 5\n",
    "bs = 2\n",
    "seq_len = 10\n",
    "x = torch.rand(size=(bs,seq_len, d_model))\n",
    "x"
   ]
  },
  {
   "cell_type": "code",
   "execution_count": 19,
   "id": "e7e738aa-2165-4f8e-8b38-af80adb10ac7",
   "metadata": {},
   "outputs": [
    {
     "data": {
      "text/plain": [
       "torch.Size([2, 10, 5])"
      ]
     },
     "execution_count": 19,
     "metadata": {},
     "output_type": "execute_result"
    }
   ],
   "source": [
    "x.size()"
   ]
  },
  {
   "cell_type": "code",
   "execution_count": 20,
   "id": "0a5bc488-5b0a-4261-84a7-faea341686c2",
   "metadata": {},
   "outputs": [],
   "source": [
    "n = Norm(d_model=d_model)"
   ]
  },
  {
   "cell_type": "code",
   "execution_count": 21,
   "id": "00065cd0-bbc9-45bf-934d-07e5cf0c2461",
   "metadata": {},
   "outputs": [
    {
     "data": {
      "text/plain": [
       "tensor([[[ 0.6630,  0.2889,  0.9185, -0.2704, -1.6001],\n",
       "         [-0.1228, -1.3101,  0.6669, -0.4919,  1.2577],\n",
       "         [-0.6541,  1.0185,  0.9584, -1.2703, -0.0526],\n",
       "         [ 1.0785, -0.4920, -0.9442, -0.7264,  1.0842],\n",
       "         [ 0.8917,  0.1115,  0.9765, -0.6163, -1.3635],\n",
       "         [ 0.3998, -0.6262,  1.5736, -0.4943, -0.8529],\n",
       "         [ 0.9177, -1.6727,  0.4643, -0.0805,  0.3712],\n",
       "         [-0.9567,  0.9369, -1.1670,  0.8588,  0.3279],\n",
       "         [ 1.1638,  0.8512, -0.5157, -0.2343, -1.2650],\n",
       "         [-1.1433, -0.4509, -0.4464,  0.6977,  1.3429]],\n",
       "\n",
       "        [[-1.1423,  1.2401, -0.3973, -0.5411,  0.8406],\n",
       "         [-0.7588, -0.4723, -0.8534,  0.6547,  1.4298],\n",
       "         [ 0.0644,  0.8078,  0.9961, -0.3839, -1.4845],\n",
       "         [ 1.0281, -0.0326, -0.7883,  0.9686, -1.1758],\n",
       "         [ 0.3070,  0.9297,  0.1269,  0.3418, -1.7054],\n",
       "         [-0.3050, -1.2688, -0.1108,  1.5003,  0.1842],\n",
       "         [-0.3442,  1.7312, -0.7542, -0.0761, -0.5566],\n",
       "         [-0.8617,  0.1900, -1.2049,  0.8726,  1.0041],\n",
       "         [-0.3191, -1.4841,  0.9951, -0.0313,  0.8393],\n",
       "         [-0.4861,  0.3197,  1.4584, -0.0544, -1.2376]]],\n",
       "       grad_fn=<AddBackward0>)"
      ]
     },
     "execution_count": 21,
     "metadata": {},
     "output_type": "execute_result"
    }
   ],
   "source": [
    "n(x)"
   ]
  },
  {
   "cell_type": "markdown",
   "id": "81828f13-b3c5-4cea-9db3-3e00f1311722",
   "metadata": {},
   "source": [
    "# Attention\n",
    "\n",
    "<center>\n",
    "    <img src=\"https://miro.medium.com/max/445/1*evdACdTOBT5j1g1nXialBg.png\" width=\"400\">\n",
    "</center>\n",
    "\n",
    "\n",
    "<center>\n",
    "    <img src=\"https://miro.medium.com/max/140/1*15E9qKg9bKnWdSRWCyY2iA.png\" width=\"100\">\n",
    "</center>\n",
    "\n",
    "- Initially we must multiply $Q$ by the transpose of $K$. This is then `scaled` by dividing the output by the square root of $d_k$.\n",
    "- A step that’s not shown in the equation is the `masking operation`. Before we perform `Softmax`, we apply our mask and hence reduce values where the input is padding (or in the decoder, also where the input is ahead of the current word).\n",
    "\n",
    "Another step not shown is `dropout`, which we will apply after `Softmax`.\n",
    "\n",
    "Finally, the last step is doing a `dot` product between the result so far and $V$."
   ]
  },
  {
   "cell_type": "code",
   "execution_count": 22,
   "id": "c297cf51-86df-4ef0-bc85-c2e586c3407d",
   "metadata": {},
   "outputs": [],
   "source": [
    "def attention(q, k, v, d_k, mask=None, dropout=None):\n",
    "    \n",
    "    scores = torch.matmul(q, k.transpose(-2, -1)) /  math.sqrt(d_k)\n",
    "    \n",
    "    if mask is not None:\n",
    "        mask = mask.unsqueeze(1)\n",
    "        scores = scores.masked_fill(mask == 0, -1e9)\n",
    "    \n",
    "    scores = F.softmax(scores, dim=-1)\n",
    "    \n",
    "    if dropout is not None:\n",
    "        scores = dropout(scores)\n",
    "        \n",
    "    output = torch.matmul(scores, v)\n",
    "    return output"
   ]
  },
  {
   "cell_type": "markdown",
   "id": "702ed8c6-1039-4511-b3ae-01fd7ff0f7fe",
   "metadata": {},
   "source": [
    "# Multi-Headed Attention\n",
    "\n",
    "Once we have our embedded values (with positional encodings) and our masks, we can start building the layers of our model.\n",
    "\n",
    "Here is an overview of the multi-headed attention layer:\n",
    "\n",
    "\n",
    "<center>\n",
    "    <img src=\"https://miro.medium.com/max/523/1*1tsRtfaY9z6HxmERYhw8XQ.png\" width=\"300\">\n",
    "</center>\n",
    "\n",
    "- $V$, $K$ and $Q$ stand for `key`, `value` and `query`. These are terms used in attention functions\n",
    "\n",
    "- In the case of the **Encoder**, $V, K$ and $G$ will simply be **identical copies** of the `emb_vector + pos_encoding`. \n",
    "- They will have the dimensions `Batch_size * seq_len * d_model`\n",
    "\n",
    "<center>\n",
    "    <img src=\"images/tensor_dimension.png\" width=\"400\">\n",
    "</center>\n",
    "\n",
    "- In multi-head attention we `split the embedding vector` into `N heads`. $d_{model}^{new} = \\frac{d_{model}}{N}$. so they will then have the dimensions `batch_size * N * seq_len * (d_model / N)`.\n",
    "- This final dimension `(d_model / N )` we will refer to as `d_k`\n",
    "\n",
    "- Drawing tool [Excalidraw](https://excalidraw.com/)"
   ]
  },
  {
   "cell_type": "code",
   "execution_count": 23,
   "id": "5444bcb0-2cb0-482f-a4eb-91ab675e8c0e",
   "metadata": {},
   "outputs": [],
   "source": [
    "class MultiHeadAttention(nn.Module):\n",
    "    def __init__(self, heads, d_model, dropout = 0.1):\n",
    "        super().__init__()\n",
    "        \n",
    "        self.d_model = d_model\n",
    "        self.d_k = d_model // heads\n",
    "        self.h = heads\n",
    "        \n",
    "        self.q_linear = nn.Linear(d_model, d_model)\n",
    "        self.v_linear = nn.Linear(d_model, d_model)\n",
    "        self.k_linear = nn.Linear(d_model, d_model)\n",
    "        \n",
    "        self.dropout = nn.Dropout(dropout)\n",
    "        self.out = nn.Linear(d_model, d_model)\n",
    "    \n",
    "    def forward(self, q, k, v, mask=None):\n",
    "        \n",
    "        bs = q.size(0)\n",
    "        \n",
    "        # perform linear operation and split into N heads\n",
    "        k = self.k_linear(k).view(bs, -1, self.h, self.d_k)\n",
    "        q = self.q_linear(q).view(bs, -1, self.h, self.d_k)\n",
    "        v = self.v_linear(v).view(bs, -1, self.h, self.d_k)\n",
    "        \n",
    "        # transpose to get dimensions bs * N * sl * d_model\n",
    "        k = k.transpose(1,2)\n",
    "        q = q.transpose(1,2)\n",
    "        v = v.transpose(1,2)\n",
    "        \n",
    "\n",
    "        # calculate attention using function we will define next\n",
    "        scores = attention(q, k, v, self.d_k, mask, self.dropout)\n",
    "        # concatenate heads and put through final linear layer\n",
    "        concat = scores.transpose(1,2).contiguous()\\\n",
    "        .view(bs, -1, self.d_model)\n",
    "        output = self.out(concat)\n",
    "    \n",
    "        return output"
   ]
  },
  {
   "cell_type": "markdown",
   "id": "a430f667-cf3e-4207-80de-d644f67a634e",
   "metadata": {},
   "source": [
    "## Test module"
   ]
  },
  {
   "cell_type": "code",
   "execution_count": 24,
   "id": "9b59834e-fee0-443d-99f3-9625f71a3ef3",
   "metadata": {},
   "outputs": [],
   "source": [
    "d_model = 16\n",
    "heads = 4\n",
    "bs = 2\n",
    "seq_len = 10"
   ]
  },
  {
   "cell_type": "code",
   "execution_count": 25,
   "id": "d3b481fe-f117-4aa4-85b7-98353efaca59",
   "metadata": {},
   "outputs": [],
   "source": [
    "mha = MultiHeadAttention(heads=heads, d_model=d_model)"
   ]
  },
  {
   "cell_type": "code",
   "execution_count": 26,
   "id": "c2466916-af88-43e3-a26e-06d614bce4fd",
   "metadata": {},
   "outputs": [],
   "source": [
    "q = torch.rand(size=(bs,seq_len, d_model))\n",
    "k = torch.rand(size=(bs,seq_len, d_model))\n",
    "v = torch.rand(size=(bs,seq_len, d_model))"
   ]
  },
  {
   "cell_type": "code",
   "execution_count": 27,
   "id": "210ea68b-8c18-4ffd-856d-175b794ff1eb",
   "metadata": {},
   "outputs": [
    {
     "data": {
      "text/plain": [
       "torch.Size([2, 10, 16])"
      ]
     },
     "execution_count": 27,
     "metadata": {},
     "output_type": "execute_result"
    }
   ],
   "source": [
    "output = mha(q,k,v)\n",
    "output.size() # batch_size x sequence_length x model_dimension "
   ]
  },
  {
   "cell_type": "markdown",
   "id": "9f40730c-7d08-4f0a-ae89-8b53b9c0e8fb",
   "metadata": {},
   "source": [
    "## Feedforward Network"
   ]
  },
  {
   "cell_type": "code",
   "execution_count": 28,
   "id": "e74032b5-48c0-44cb-801a-fff8cec8437c",
   "metadata": {},
   "outputs": [],
   "source": [
    "class FeedForward(nn.Module):\n",
    "    def __init__(self, d_model:int, d_ff:int = 2048, dropout_pct:float = 0.1):\n",
    "        super().__init__()\n",
    "        \n",
    "        self.linear1 = nn.Linear(d_model, d_ff)\n",
    "        self.linear2 = nn.Linear(d_ff, d_model)\n",
    "        self.dropout = nn.Dropout(dropout_pct)\n",
    "        \n",
    "    def forward(self, x):\n",
    "        x = self.dropout(F.relu(self.linear1(x)))\n",
    "        x = self.linear2(x)\n",
    "        return x"
   ]
  },
  {
   "cell_type": "markdown",
   "id": "c961993a-818b-469d-9b2c-6a5fdc05a387",
   "metadata": {},
   "source": [
    "## Is dropout applied before or after the non-linear activation function?\n",
    "\n",
    "Typically, dropout is applied after the non-linear activation function (a). However, when using rectified linear units (ReLUs), it might make sense to apply dropout before the non-linear activation (b) for reasons of computational efficiency depending on the particular code implementation.\n",
    "\n",
    "- (a): Fully connected, `linear activation` -> `ReLU` -> `Dropout` -> … [traditional use]\n",
    "- (b): Fully connected, `linear activation` -> `Dropout` -> `ReLU` -> …\n",
    "\n",
    "**Reference:**\n",
    "- [Sebastian Rachka](https://sebastianraschka.com/faq/docs/dropout-activation.html)"
   ]
  },
  {
   "cell_type": "markdown",
   "id": "f358ae97-79bb-4322-bdc6-bfdf385f99c5",
   "metadata": {},
   "source": [
    "## Test module"
   ]
  },
  {
   "cell_type": "code",
   "execution_count": 29,
   "id": "0af51322-44c0-48d1-a1fc-778716be5c70",
   "metadata": {},
   "outputs": [],
   "source": [
    "d_model = 16\n",
    "bs = 2\n",
    "seq_len = 10"
   ]
  },
  {
   "cell_type": "code",
   "execution_count": 30,
   "id": "b3fc7071-ab1c-464b-8b49-36892fda2aca",
   "metadata": {},
   "outputs": [],
   "source": [
    "x = torch.rand(size=(bs,seq_len, d_model))"
   ]
  },
  {
   "cell_type": "code",
   "execution_count": 31,
   "id": "14d67507-92c6-48a4-973c-72529e7ca760",
   "metadata": {},
   "outputs": [],
   "source": [
    "ff = FeedForward(d_model=d_model)"
   ]
  },
  {
   "cell_type": "code",
   "execution_count": 32,
   "id": "27b852c8-b0be-43cb-b58b-35579b037983",
   "metadata": {},
   "outputs": [],
   "source": [
    "output = ff(x)"
   ]
  },
  {
   "cell_type": "code",
   "execution_count": 33,
   "id": "28e53327-5a90-440d-92a9-556965b06b69",
   "metadata": {},
   "outputs": [
    {
     "data": {
      "text/plain": [
       "torch.Size([2, 10, 16])"
      ]
     },
     "execution_count": 33,
     "metadata": {},
     "output_type": "execute_result"
    }
   ],
   "source": [
    "output.size()"
   ]
  },
  {
   "cell_type": "markdown",
   "id": "2a65092f-c244-4fab-8445-4fefa1e3e54c",
   "metadata": {},
   "source": [
    "\n",
    "<center>\n",
    "    <img src=\"images/attention_layer.jpg\" width=\"700\">\n",
    "</center>\n",
    "\n",
    "# Basic Encoder Layer"
   ]
  },
  {
   "cell_type": "code",
   "execution_count": 34,
   "id": "5f2ef518-7a44-413c-883c-faacb8e297a1",
   "metadata": {},
   "outputs": [],
   "source": [
    "class EncoderLayer_basic(nn.Module):\n",
    "    def __init__(self, d_model, heads, dropout_pct = 0.1):\n",
    "        super().__init__()\n",
    "        \n",
    "        self.norm_1 = Norm(d_model)\n",
    "        self.norm_2 = Norm(d_model)\n",
    "        self.attn = MultiHeadAttention(heads, d_model, dropout=dropout_pct)\n",
    "        \n",
    "        self.ff = FeedForward(d_model, dropout_pct = dropout_pct)\n",
    "        self.dropout_1 = nn.Dropout(dropout_pct)\n",
    "        self.dropout_2 = nn.Dropout(dropout_pct)\n",
    "        \n",
    "    def forward(self, x, mask):\n",
    "        # q = k = v = x\n",
    "        x = x + self.dropout_1(self.attn(x,x,x,mask))\n",
    "        x = self.norm_1(x)\n",
    "        \n",
    "        x = x + self.dropout_2(self.ff(x))\n",
    "        x = self.norm_2(x)\n",
    "        \n",
    "        return x"
   ]
  },
  {
   "cell_type": "markdown",
   "id": "2f267ead-212d-4335-8e7e-ff1498d321d6",
   "metadata": {},
   "source": [
    "**Note:** The above implementation creates the `forward` function based on the above encoder image. Which is slightly different from this blog implemention [link](https://github.com/SamLynnEvans/Transformer/blob/master/Layers.py), where their `add` and `norm` operation order is slightly different\n",
    "\n",
    "```python\n",
    "class EncoderLayer(nn.Module):\n",
    "    def __init__(self, d_model, heads, dropout=0.1):\n",
    "        pass\n",
    "        \n",
    "    def forward(self, x, mask):\n",
    "        x2 = self.norm_1(x)\n",
    "        x = x + self.dropout_1(self.attn(x2,x2,x2,mask))\n",
    "        x2 = self.norm_2(x)\n",
    "        x = x + self.dropout_2(self.ff(x2))\n",
    "        return x\n",
    "```"
   ]
  },
  {
   "cell_type": "markdown",
   "id": "2e6346f7-6647-41e7-b450-92edbbd387a6",
   "metadata": {},
   "source": [
    "## Test Module"
   ]
  },
  {
   "cell_type": "code",
   "execution_count": 35,
   "id": "73ad5cfe-2074-48a2-837f-9d828ffbca16",
   "metadata": {},
   "outputs": [
    {
     "data": {
      "text/plain": [
       "torch.Size([2, 10, 16])"
      ]
     },
     "execution_count": 35,
     "metadata": {},
     "output_type": "execute_result"
    }
   ],
   "source": [
    "d_model = 16\n",
    "heads = 4\n",
    "bs = 2\n",
    "seq_len = 10\n",
    "\n",
    "el = EncoderLayer_basic(d_model, heads)\n",
    "\n",
    "x = torch.rand(size=(bs,seq_len, d_model))\n",
    "\n",
    "output = el(x,mask=None)\n",
    "output.size()"
   ]
  },
  {
   "cell_type": "markdown",
   "id": "6f233930-4874-431a-9d77-397b595139b2",
   "metadata": {},
   "source": [
    "# Basic Decoder Layer "
   ]
  },
  {
   "cell_type": "code",
   "execution_count": 36,
   "id": "92a7b55d-74e1-4716-aedf-ebd5599bfab5",
   "metadata": {},
   "outputs": [],
   "source": [
    "class DecoderLayer_basic(nn.Module):\n",
    "    def __init__(self, d_model, heads, dropout_pct = 0.1):\n",
    "        super().__init__()\n",
    "        \n",
    "        self.norm_1 = Norm(d_model)\n",
    "        self.norm_2 = Norm(d_model)\n",
    "        self.norm_3 = Norm(d_model)\n",
    "        \n",
    "        self.attn_decoder = MultiHeadAttention(heads, d_model)\n",
    "        self.attn_encoder = MultiHeadAttention(heads, d_model)\n",
    "        \n",
    "        self.ff = FeedForward(d_model)\n",
    "        \n",
    "        self.dropout_1 = nn.Dropout(dropout_pct)\n",
    "        self.dropout_2 = nn.Dropout(dropout_pct)\n",
    "        self.dropout_3 = nn.Dropout(dropout_pct)\n",
    "        \n",
    "    def forward(self, x, encoder_output, src_mask, trg_mask):\n",
    "        \n",
    "        \"\"\"\n",
    "        x: this x comes from the target language\n",
    "        \"\"\"\n",
    "        \n",
    "        q = k = v = x\n",
    "        x = x + self.dropout_1(self.attn_decoder(q,k,v,trg_mask))\n",
    "        x = self.norm_1(x)\n",
    "        \n",
    "        k_enc = v_enc = encoder_output\n",
    "        x = x + self.dropout_2(self.attn_encoder(x, k_enc, v_enc, src_mask))\n",
    "        x = self.norm_2(x)\n",
    "        \n",
    "        x = x + self.dropout_3(self.ff(x))\n",
    "        x = self.norm_3(x)\n",
    "        \n",
    "        return x"
   ]
  },
  {
   "cell_type": "markdown",
   "id": "101cd33f-13ac-49c2-8ee9-83bbd6a6279d",
   "metadata": {},
   "source": [
    "## Test Module"
   ]
  },
  {
   "cell_type": "code",
   "execution_count": 37,
   "id": "c5e5de9c-fd29-422c-b724-e5e75baf9fd6",
   "metadata": {},
   "outputs": [],
   "source": [
    "d_model = 16\n",
    "heads = 4\n",
    "bs = 2\n",
    "seq_len = 10"
   ]
  },
  {
   "cell_type": "code",
   "execution_count": 39,
   "id": "c8e2528f-a78f-40f2-a9a9-4d4b209f00f9",
   "metadata": {},
   "outputs": [],
   "source": [
    "el = EncoderLayer_basic(d_model, heads)"
   ]
  },
  {
   "cell_type": "code",
   "execution_count": 40,
   "id": "5252c377-41c9-402b-9fe9-e9200ee37364",
   "metadata": {},
   "outputs": [],
   "source": [
    "x_src = torch.rand(size=(bs,seq_len, d_model))\n",
    "x_trg = torch.rand(size=(bs,seq_len, d_model))"
   ]
  },
  {
   "cell_type": "code",
   "execution_count": 41,
   "id": "c2dd2701-6fb1-4de2-b18a-e88444d7262f",
   "metadata": {},
   "outputs": [
    {
     "data": {
      "text/plain": [
       "torch.Size([2, 10, 16])"
      ]
     },
     "execution_count": 41,
     "metadata": {},
     "output_type": "execute_result"
    }
   ],
   "source": [
    "enc_output = el(x_src,mask=None)\n",
    "enc_output.size()"
   ]
  },
  {
   "cell_type": "code",
   "execution_count": 42,
   "id": "e73e8448-7b8a-4d98-86a5-eaae477a1657",
   "metadata": {},
   "outputs": [
    {
     "data": {
      "text/plain": [
       "torch.Size([2, 10, 16])"
      ]
     },
     "execution_count": 42,
     "metadata": {},
     "output_type": "execute_result"
    }
   ],
   "source": [
    "dl = DecoderLayer_basic(d_model, heads)\n",
    "\n",
    "dec_output = dl(x_trg, enc_output, src_mask=None, trg_mask=None)\n",
    "\n",
    "dec_output.size()"
   ]
  },
  {
   "cell_type": "markdown",
   "id": "2bd95ccc-b2c4-4394-928e-50133ec69ec8",
   "metadata": {},
   "source": [
    "# Add-Norm Module\n",
    "\n",
    "The above implementation of `EncoderLayer_basic()`, `DecoderLayer_basic()` ic correct. However we can create an `Add-Norm` module to make the code more modular and get rid of repeatitive code-block"
   ]
  },
  {
   "cell_type": "code",
   "execution_count": 43,
   "id": "727a06b9-8688-4f88-9f4a-2bb5e6f7296b",
   "metadata": {},
   "outputs": [],
   "source": [
    "class AddNorm(nn.Module):\n",
    "    def __init__(self, d_model, dropout_pct = 0.1):\n",
    "        super().__init__()\n",
    "        self.norm = Norm(d_model)\n",
    "        self.dropout = nn.Dropout(dropout_pct)\n",
    "        \n",
    "    def forward(self, x, attn_output):\n",
    "        # add\n",
    "        x = x + self.dropout(attn_output)\n",
    "        \n",
    "        # normalize\n",
    "        x = self.norm(x)\n",
    "        \n",
    "        return x"
   ]
  },
  {
   "cell_type": "markdown",
   "id": "26ddad0b-03f9-4597-8f96-4b2e52f8224f",
   "metadata": {},
   "source": [
    "# Improved Encode Layer with AddNorm module"
   ]
  },
  {
   "cell_type": "code",
   "execution_count": 44,
   "id": "d5500724-570b-42e0-ab0b-73d020a199c8",
   "metadata": {},
   "outputs": [],
   "source": [
    "class EncoderLayer(nn.Module):\n",
    "    def __init__(self, d_model, heads, dropout_pct = 0.1):\n",
    "        super().__init__()\n",
    "        \n",
    "        self.attn = MultiHeadAttention(heads, d_model, dropout=dropout_pct)\n",
    "        self.ff = FeedForward(d_model, dropout_pct = dropout_pct)\n",
    "        self.add_norm_1 = AddNorm(d_model, dropout_pct)\n",
    "        self.add_norm_2 = AddNorm(d_model, dropout_pct)\n",
    "        \n",
    "    def forward(self, x, mask):\n",
    "        # q = k = v = x\n",
    "        x = self.add_norm_1(x,self.attn(x,x,x,mask))\n",
    "        x = self.add_norm_2(x, self.ff(x))\n",
    "        return x"
   ]
  },
  {
   "cell_type": "markdown",
   "id": "a7a0a767-f921-4a86-a443-f58541cc458f",
   "metadata": {},
   "source": [
    "## Test Module"
   ]
  },
  {
   "cell_type": "code",
   "execution_count": 45,
   "id": "935a5dab-0c9d-46ae-aa5b-2e9c30e55f55",
   "metadata": {},
   "outputs": [
    {
     "data": {
      "text/plain": [
       "torch.Size([2, 10, 16])"
      ]
     },
     "execution_count": 45,
     "metadata": {},
     "output_type": "execute_result"
    }
   ],
   "source": [
    "d_model = 16\n",
    "heads = 4\n",
    "bs = 2\n",
    "seq_len = 10\n",
    "\n",
    "el_1 = EncoderLayer(d_model, heads)\n",
    "\n",
    "x = torch.rand(size=(bs,seq_len, d_model))\n",
    "\n",
    "output = el_1(x,mask=None)\n",
    "output.size()"
   ]
  },
  {
   "cell_type": "code",
   "execution_count": 46,
   "id": "8a3e9806-80f4-4c76-ad7f-9c2cde96fd6d",
   "metadata": {},
   "outputs": [],
   "source": [
    "class DecoderLayer(nn.Module):\n",
    "    def __init__(self, d_model, heads, dropout_pct = 0.1):\n",
    "        super().__init__()\n",
    "        \n",
    "        self.attn_decoder = MultiHeadAttention(heads, d_model)\n",
    "        self.attn_encoder = MultiHeadAttention(heads, d_model)\n",
    "        \n",
    "        self.ff = FeedForward(d_model)\n",
    "        \n",
    "        self.add_norm_1 = AddNorm(d_model, dropout_pct)\n",
    "        self.add_norm_2 = AddNorm(d_model, dropout_pct)\n",
    "        self.add_norm_3 = AddNorm(d_model, dropout_pct)\n",
    "        \n",
    "        \n",
    "        \n",
    "    def forward(self, x, encoder_output, src_mask, trg_mask):\n",
    "        \n",
    "        \"\"\"\n",
    "        x: this x comes from the target language\n",
    "        \"\"\"\n",
    "        \n",
    "        q = k = v = x\n",
    "        x = self.add_norm_1(x ,self.attn_decoder(q,k,v,trg_mask))\n",
    "        \n",
    "        k_enc = v_enc = encoder_output\n",
    "        x = self.add_norm_2(x, self.attn_encoder(x, k_enc, v_enc, src_mask))\n",
    "        \n",
    "        x = self.add_norm_3(x, self.ff(x))\n",
    "        \n",
    "        return x"
   ]
  },
  {
   "cell_type": "markdown",
   "id": "a5e16879-1573-410e-a135-06c5c246263f",
   "metadata": {},
   "source": [
    "## Test Module"
   ]
  },
  {
   "cell_type": "code",
   "execution_count": 47,
   "id": "1550580d-4304-45b4-b8fe-1b4f553c8bcd",
   "metadata": {},
   "outputs": [
    {
     "data": {
      "text/plain": [
       "torch.Size([2, 10, 16])"
      ]
     },
     "execution_count": 47,
     "metadata": {},
     "output_type": "execute_result"
    }
   ],
   "source": [
    "d_model = 16\n",
    "heads = 4\n",
    "bs = 2\n",
    "seq_len = 10\n",
    "\n",
    "el = EncoderLayer(d_model, heads)\n",
    "x_src = torch.rand(size=(bs,seq_len, d_model))\n",
    "enc_output = el(x_src,mask=None)\n",
    "\n",
    "\n",
    "dl = DecoderLayer(d_model, heads)\n",
    "x_trg = torch.rand(size=(bs,seq_len, d_model))\n",
    "dec_output = dl(x_trg, enc_output, src_mask=None, trg_mask=None)\n",
    "\n",
    "dec_output.size()"
   ]
  },
  {
   "cell_type": "markdown",
   "id": "c50ae044-57b3-4b58-ad0b-219bb0b5d39d",
   "metadata": {},
   "source": [
    "# Replication of EncoderLayer and DecoderLayer\n",
    "\n",
    "One last Variable: If you look at the diagram closely you can see a `Nx` next to the encoder and decoder architectures. In reality, the encoder and decoder in the diagram above represent one layer of an encoder and one of the decoder. `N` is the variable for the number of layers there will be. Eg. if `N=6`, the data goes through six encoder layers (with the architecture seen above), then these outputs are passed to the decoder which also consists of six repeating decoder layers."
   ]
  },
  {
   "cell_type": "code",
   "execution_count": 48,
   "id": "4e892065-32a2-4081-ad91-6032113aeb35",
   "metadata": {},
   "outputs": [],
   "source": [
    "import copy"
   ]
  },
  {
   "cell_type": "code",
   "execution_count": 49,
   "id": "c9058c1e-bee5-4e66-b947-b1fe388e9c1c",
   "metadata": {},
   "outputs": [],
   "source": [
    "def get_clones(module, N):\n",
    "    return nn.ModuleList([copy.deepcopy(module) for i in range(N)])"
   ]
  },
  {
   "cell_type": "code",
   "execution_count": 50,
   "id": "f4a44118-6c6a-4178-983a-7d4244da5f50",
   "metadata": {},
   "outputs": [],
   "source": [
    "class Encoder(nn.Module):\n",
    "    def __init__(self, vocab_size, d_model, n_encoder_layer, heads, dropout):\n",
    "        super().__init__()\n",
    "        self.n_encoder_layer = n_encoder_layer\n",
    "        self.embed = Embedder(vocab_size, d_model)\n",
    "        self.pe = PositionalEmbedding(d_model)\n",
    "        enc_layer = EncoderLayer(d_model, heads, dropout)\n",
    "        # stack enc_layers\n",
    "        self.enc_layers = get_clones(enc_layer, n_encoder_layer)\n",
    "        \n",
    "    def forward(self, src_token, mask):\n",
    "        x = self.embed(src_token)\n",
    "        x = self.pe(x)\n",
    "        \n",
    "        for i in range(self.n_encoder_layer):\n",
    "            x = self.enc_layers[i](x, mask)\n",
    "        \n",
    "        # the EncoderLayer return normalized x\n",
    "        # so no need to pass through Norm() again\n",
    "        \n",
    "        return x"
   ]
  },
  {
   "cell_type": "code",
   "execution_count": 51,
   "id": "248466cc-2e24-4c6c-b0b9-ba9910c01413",
   "metadata": {},
   "outputs": [],
   "source": [
    "d_model = 16\n",
    "heads = 4\n",
    "bs = 2\n",
    "seq_len = 10\n",
    "vocab_size = 2000\n",
    "\n",
    "enc = Encoder(vocab_size, d_model, \n",
    "              n_encoder_layer=6, heads=heads, dropout=0.1)"
   ]
  },
  {
   "cell_type": "code",
   "execution_count": 52,
   "id": "3bb967fd-be95-4bf5-b6dd-d033845ad6cc",
   "metadata": {},
   "outputs": [],
   "source": [
    "x_src = torch.tensor([1,2,3,4,5, 6,7, 8, 9, 10])\n",
    "enc_output = enc(x_src,mask=None)"
   ]
  },
  {
   "cell_type": "code",
   "execution_count": 53,
   "id": "d90f1190-c932-4279-bbef-f485278ad5f9",
   "metadata": {},
   "outputs": [
    {
     "data": {
      "text/plain": [
       "torch.Size([10, 10, 16])"
      ]
     },
     "execution_count": 53,
     "metadata": {},
     "output_type": "execute_result"
    }
   ],
   "source": [
    "enc_output.size()"
   ]
  },
  {
   "cell_type": "markdown",
   "id": "954f8b22-ba87-43c1-86e7-665cdc793f48",
   "metadata": {},
   "source": [
    "### Why the encoder output shape is this? "
   ]
  },
  {
   "cell_type": "code",
   "execution_count": 61,
   "id": "9e6522f4-972d-4f3b-a0cf-d48391527c98",
   "metadata": {},
   "outputs": [],
   "source": [
    "class Decoder(nn.Module):\n",
    "    def __init__(self, vocab_size, d_model, n_decoder_layer, heads, dropout):\n",
    "        super().__init__()\n",
    "        self.n_decoder_layer = n_decoder_layer\n",
    "        self.embed = Embedder(vocab_size, d_model)\n",
    "        self.pe = PositionalEmbedding(d_model)\n",
    "        dec_layer = DecoderLayer(d_model, heads, dropout_pct=dropout)\n",
    "        self.dec_layers = get_clones(dec_layer, n_decoder_layer)\n",
    "        self.norm = Norm(d_model)\n",
    "        \n",
    "    def forward(self,trg, enc_output, src_mask, trg_mask):\n",
    "        x = self.pe(self.embed(trg))\n",
    "        for i in range(self.n_decoder_layer):\n",
    "            x = self.dec_layers[i](x, enc_output, src_mask, trg_mask)\n",
    "          \n",
    "        # the DecoderLayer returns normalized x\n",
    "        # so no need to pass through Norm() again\n",
    "        \n",
    "        return x"
   ]
  },
  {
   "cell_type": "code",
   "execution_count": 56,
   "id": "17449987-59fe-4c63-bd3e-3840fb58d1e5",
   "metadata": {},
   "outputs": [],
   "source": [
    "dec = Decoder(vocab_size, d_model, \n",
    "              n_decoder_layer=6, heads=heads, dropout=0.1)"
   ]
  },
  {
   "cell_type": "code",
   "execution_count": 57,
   "id": "b5077da8-bc80-48f6-b26a-4683c215e8a9",
   "metadata": {},
   "outputs": [],
   "source": [
    "x_trg = torch.tensor([11,12, 13, 14, 15, 16, 17, 18, 19,20])"
   ]
  },
  {
   "cell_type": "code",
   "execution_count": 59,
   "id": "580566ff-0889-45d9-b6d5-535d212d38af",
   "metadata": {},
   "outputs": [],
   "source": [
    "dec_output = dec(x_trg, enc_output, src_mask=None, trg_mask=None)"
   ]
  },
  {
   "cell_type": "code",
   "execution_count": 60,
   "id": "41d23885-4d0a-4b6e-b4d8-44567bba3316",
   "metadata": {},
   "outputs": [
    {
     "data": {
      "text/plain": [
       "torch.Size([10, 10, 16])"
      ]
     },
     "execution_count": 60,
     "metadata": {},
     "output_type": "execute_result"
    }
   ],
   "source": [
    "dec_output.size()"
   ]
  },
  {
   "cell_type": "code",
   "execution_count": 62,
   "id": "fc703dc2-d75c-49ca-ac37-23e0ecde3f07",
   "metadata": {},
   "outputs": [],
   "source": [
    "class Transformer(nn.Module):\n",
    "    def __init__(self, src_vocab, trg_vocab, d_model, n_layers, heads, dropout = 0.1):\n",
    "        super().__init__()\n",
    "        self.encoder = Encoder(src_vocab, d_model, n_layers, heads, dropout)\n",
    "        self.decoder = Decoder(trg_vocab, d_model, n_layers, heads, dropout)\n",
    "        self.linear = nn.Linear(d_model, trg_vocab)\n",
    "        \n",
    "    def forward(self, src, trg, src_mask, trg_mask):\n",
    "        \n",
    "        enc_output = self.encoder(src, src_mask)\n",
    "        dec_output = self.decoder(trg, enc_output, src_mask, trg_mask)\n",
    "        output = self.linear(dec_output)\n",
    "        \n",
    "        return output\n",
    "    \n",
    "# we don't perform softmax on the output as this will be handled \n",
    "# automatically by our loss function"
   ]
  },
  {
   "cell_type": "code",
   "execution_count": 63,
   "id": "973b27b0-ca93-4dd7-b999-6a366818dd73",
   "metadata": {},
   "outputs": [],
   "source": [
    "tfmr = Transformer(vocab_size, vocab_size, d_model, \n",
    "                   n_layers=6, heads=heads, dropout=0.1)"
   ]
  },
  {
   "cell_type": "code",
   "execution_count": 64,
   "id": "2e8ade90-0cd2-4d8e-8e0f-214b49a17707",
   "metadata": {},
   "outputs": [],
   "source": [
    "x_trg = torch.tensor([11,12, 13, 14, 15, 16, 17, 18, 19,20])\n",
    "x_src = torch.tensor([1,2,3,4,5, 6,7, 8, 9, 10])"
   ]
  },
  {
   "cell_type": "code",
   "execution_count": 66,
   "id": "31d06766-b244-485a-b1c4-238e05d8839e",
   "metadata": {},
   "outputs": [],
   "source": [
    "output = tfmr(x_src, x_trg, src_mask=None, trg_mask=None)"
   ]
  },
  {
   "cell_type": "code",
   "execution_count": 67,
   "id": "cc3a204e-826f-48e4-8ea3-9683deb3f305",
   "metadata": {},
   "outputs": [
    {
     "data": {
      "text/plain": [
       "torch.Size([10, 10, 2000])"
      ]
     },
     "execution_count": 67,
     "metadata": {},
     "output_type": "execute_result"
    }
   ],
   "source": [
    "output.size()"
   ]
  },
  {
   "cell_type": "code",
   "execution_count": null,
   "id": "831b4505-56ab-4037-8fef-5ae1fdbb0d08",
   "metadata": {},
   "outputs": [],
   "source": []
  }
 ],
 "metadata": {
  "kernelspec": {
   "display_name": "Python 3",
   "language": "python",
   "name": "python3"
  },
  "language_info": {
   "codemirror_mode": {
    "name": "ipython",
    "version": 3
   },
   "file_extension": ".py",
   "mimetype": "text/x-python",
   "name": "python",
   "nbconvert_exporter": "python",
   "pygments_lexer": "ipython3",
   "version": "3.8.10"
  }
 },
 "nbformat": 4,
 "nbformat_minor": 5
}
